{
 "cells": [
  {
   "cell_type": "code",
   "execution_count": 2,
   "metadata": {},
   "outputs": [],
   "source": [
    "test_board = [\"#\", \"X\", \"O\", \"X\", \"O\", \"X\", \"O\", \"X\", \"O\", \"X\"]\n",
    "\n",
    "\n",
    "def display_board(board):\n",
    "    print(board[1]+\"|\"+board[2]+\"|\"+board[3])\n",
    "    print(\"-+-+-\")\n",
    "    print(board[4]+\"|\"+board[5]+\"|\"+board[6])\n",
    "    print(\"-+-+-\")\n",
    "    print(board[7]+\"|\"+board[8]+\"|\"+board[9])\n",
    "    print(\"-+-+-\")"
   ]
  },
  {
   "cell_type": "code",
   "execution_count": 3,
   "metadata": {},
   "outputs": [
    {
     "name": "stdout",
     "output_type": "stream",
     "text": [
      "X|O|X\n",
      "-+-+-\n",
      "O|X|O\n",
      "-+-+-\n",
      "X|O|X\n",
      "-+-+-\n"
     ]
    }
   ],
   "source": [
    "display_board(test_board)"
   ]
  },
  {
   "cell_type": "code",
   "execution_count": null,
   "metadata": {},
   "outputs": [],
   "source": [
    "test_board = [\" \"] *10\n",
    "display_board(test_board)"
   ]
  }
 ],
 "metadata": {
  "kernelspec": {
   "display_name": "Python 3",
   "language": "python",
   "name": "python3"
  },
  "language_info": {
   "codemirror_mode": {
    "name": "ipython",
    "version": 3
   },
   "file_extension": ".py",
   "mimetype": "text/x-python",
   "name": "python",
   "nbconvert_exporter": "python",
   "pygments_lexer": "ipython3",
   "version": "3.12.4"
  }
 },
 "nbformat": 4,
 "nbformat_minor": 2
}
