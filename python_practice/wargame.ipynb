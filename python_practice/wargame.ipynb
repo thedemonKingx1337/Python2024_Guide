{
 "cells": [
  {
   "cell_type": "code",
   "execution_count": null,
   "metadata": {},
   "outputs": [],
   "source": [
    "import random\n",
    "\n",
    "values = {\n",
    "    \"Two\": 2, \"Three\":3, \"Four\":4, \"Five\":5, \"Six\":6,   \"Seven\":7, \"Eight\":8    , \"Nine\":9, \"Ten\":10, \"Jack\" :11,\"Queen\" :12,\"King\" :13,\"Ace\" : 14,\n",
    "}\n",
    "\n",
    "suits = (\"Hearts\", \"Diamonds\",  \"Spades\" ,\"Clubs\")\n",
    "ranks = (\"Two\", \"Three\", \"Four\", \"Five\", \"Six\", \"Seven\", \"Eight\", \"Nine\", \"Ten\", \"Jack\", \"Queen\", \"Ace\")"
   ]
  },
  {
   "cell_type": "code",
   "execution_count": 2,
   "metadata": {},
   "outputs": [],
   "source": [
    "class card():\n",
    "    def __init__(self, suit, rank):\n",
    "        self.suit = suit\n",
    "        self.rank = rank\n",
    "        self.value = values[self.rank]\n",
    "\n",
    "    def __str__(self):\n",
    "        return f\"{self.rank} of {self.suit}\""
   ]
  },
  {
   "cell_type": "code",
   "execution_count": 3,
   "metadata": {},
   "outputs": [],
   "source": [
    "card = card(\"Clubs\",\"Four\")"
   ]
  },
  {
   "cell_type": "code",
   "execution_count": 4,
   "metadata": {},
   "outputs": [
    {
     "name": "stdout",
     "output_type": "stream",
     "text": [
      "Four of Clubs\n"
     ]
    }
   ],
   "source": [
    "print(card)"
   ]
  }
 ],
 "metadata": {
  "kernelspec": {
   "display_name": "Python 3",
   "language": "python",
   "name": "python3"
  },
  "language_info": {
   "codemirror_mode": {
    "name": "ipython",
    "version": 3
   },
   "file_extension": ".py",
   "mimetype": "text/x-python",
   "name": "python",
   "nbconvert_exporter": "python",
   "pygments_lexer": "ipython3",
   "version": "3.12.4"
  }
 },
 "nbformat": 4,
 "nbformat_minor": 2
}
